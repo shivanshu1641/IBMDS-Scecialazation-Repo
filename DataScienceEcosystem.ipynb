{
 "cells": [
  {
   "cell_type": "markdown",
   "id": "2c9f15a0-c1aa-4f09-b8fd-acccd69ebe2b",
   "metadata": {},
   "source": [
    "# Data Science Tools and Ecosystem"
   ]
  },
  {
   "cell_type": "raw",
   "id": "b070ede8-5b38-4cc6-83f4-3e8c65dd97e7",
   "metadata": {},
   "source": [
    "In this notebook, Data Science Tools and Ecosystem are summarized."
   ]
  },
  {
   "cell_type": "markdown",
   "id": "15d5da15-16a3-4407-acc9-fd58ed083297",
   "metadata": {},
   "source": [
    "**Objectives** : \n",
    "- List popular languages that are used by Data Scientists\n",
    "- List commonly used libraries by Data Scientists\n",
    "- Perform Basic Arithmetic Operation"
   ]
  },
  {
   "cell_type": "markdown",
   "id": "3d4017f8-96a0-4a2e-a22d-5260b87d2354",
   "metadata": {},
   "source": [
    "Some of the popular languages that Data Scientists use are:\n",
    "1. Python\n",
    "2. R\n",
    "3. SQL"
   ]
  },
  {
   "cell_type": "markdown",
   "id": "da0f1aac-e576-442c-9060-baac2e85534a",
   "metadata": {},
   "source": [
    "Some of the commonly used libraries used by Data Scientists include:\n",
    "1. Pandas\n",
    "2. Numpy\n",
    "3. Sklearn\n"
   ]
  },
  {
   "cell_type": "markdown",
   "id": "788c3047-b90e-4a5e-8d59-10b16d1265d7",
   "metadata": {},
   "source": [
    "| Data Science Tools |\n",
    "|-------|\n",
    "| Python |\n",
    "| R   |\n",
    "| Tableau |"
   ]
  },
  {
   "cell_type": "markdown",
   "id": "0f52bdd6-abdd-4b8d-98b5-21d16af0ac7a",
   "metadata": {},
   "source": [
    "### Below are a few examples of evaluating arithmetic expressions in Python.\n"
   ]
  },
  {
   "cell_type": "code",
   "execution_count": 2,
   "id": "10cf6378-80da-4e54-b2fc-7df28506214e",
   "metadata": {},
   "outputs": [
    {
     "data": {
      "text/plain": [
       "17"
      ]
     },
     "execution_count": 2,
     "metadata": {},
     "output_type": "execute_result"
    }
   ],
   "source": [
    "# This a simple arithmetic expression to mutiply then add integers\n",
    "(3*4)+5"
   ]
  },
  {
   "cell_type": "code",
   "execution_count": 5,
   "id": "f577de40-5655-4745-81e8-03c91a473e55",
   "metadata": {},
   "outputs": [
    {
     "name": "stdout",
     "output_type": "stream",
     "text": [
      "200 minutes has  3.33 hours\n"
     ]
    }
   ],
   "source": [
    "# This will convert 200 minutes to hours by diving by 60\n",
    "minutes = 200\n",
    "hour = round(minutes/60,2)\n",
    "print(minutes,\"minutes has \",hour,\"hours\")"
   ]
  },
  {
   "cell_type": "markdown",
   "id": "adc6577c-93c8-401e-be8c-6a714dcadca8",
   "metadata": {},
   "source": [
    "## Author\n",
    "Shivanshu S S"
   ]
  },
  {
   "cell_type": "code",
   "execution_count": null,
   "id": "b1188d17-0aa7-400b-9b4d-73fc35927c61",
   "metadata": {},
   "outputs": [],
   "source": []
  }
 ],
 "metadata": {
  "kernelspec": {
   "display_name": "Python",
   "language": "python",
   "name": "conda-env-python-py"
  },
  "language_info": {
   "codemirror_mode": {
    "name": "ipython",
    "version": 3
   },
   "file_extension": ".py",
   "mimetype": "text/x-python",
   "name": "python",
   "nbconvert_exporter": "python",
   "pygments_lexer": "ipython3",
   "version": "3.7.12"
  }
 },
 "nbformat": 4,
 "nbformat_minor": 5
}
